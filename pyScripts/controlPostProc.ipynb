{
 "cells": [
  {
   "cell_type": "code",
   "execution_count": 8,
   "source": [
    "import matplotlib.pyplot as plt\n",
    "import numpy as np"
   ],
   "outputs": [],
   "metadata": {}
  },
  {
   "cell_type": "code",
   "execution_count": 2,
   "source": [
    "class controlRun:\n",
    "    #list of controlVars\n",
    "    #read one\n",
    "    #read all\n",
    "    pass\n",
    "class controlVar:\n",
    "    #searchstring\n",
    "    #type: output? input? controllledVar? state?\n",
    "    #\n",
    "    pass"
   ],
   "outputs": [],
   "metadata": {}
  },
  {
   "cell_type": "code",
   "execution_count": 3,
   "source": [
    "logFilename = \"log.pimpleFoam\"\n",
    "#preallocate estimate of list size\n",
    "defaultSize = int(5e5)\n",
    "omegaT = [0] * defaultSize\n",
    "angleT = [0] * defaultSize\n",
    "errorT = [0] * defaultSize\n",
    "integralErrorT = [0] * defaultSize\n",
    "differentialErrorT = [0] * defaultSize\n",
    "rawOmegaT = [0] * defaultSize\n",
    "rawAngleT = [0] * defaultSize\n",
    "controlledVarT = [0] * defaultSize\n",
    "Time = [0] * defaultSize\n",
    "namesList = [\"Time\",\"Cl\",\"omega\",\"angle\",\"error\",\"integralError\",\"differentialError\",\"rawOmega\",\"rawAngle\"]\n",
    "varList = [Time,controlledVarT,omegaT,angleT,errorT,integralErrorT,differentialErrorT,rawOmegaT,rawAngleT]\n",
    "searchList = [\"Time =\",\"(Cl)\",\"Saturated omega\",\"Saturated angle\",\"error  \",\"errorIntegral\",\"errorDifferential\",\"Raw omega\",\"Raw angle\"]"
   ],
   "outputs": [],
   "metadata": {}
  },
  {
   "cell_type": "code",
   "execution_count": 4,
   "source": [
    "def searchvars(searchList,varList,fname,trigger):\n",
    "    readControl = False\n",
    "    f = open(fname,'r')\n",
    "    count = 0\n",
    "    countList = [0] * len(varList)\n",
    "    length = 0\n",
    "    startTime = 0\n",
    "    for line in f:\n",
    "        if not readControl:\n",
    "            if \"Time =\" in line and \"ExecutionTime\" not in line:\n",
    "                startTime = float(line.split()[-1])\n",
    "            count +=1\n",
    "            if trigger in line:\n",
    "                readControl = True\n",
    "                print(\"starting to read at line \",count)\n",
    "                print(\"Start time= \", startTime,\" s\")\n",
    "                varList[0][0] = startTime\n",
    "                countList[0] = 1\n",
    "            continue\n",
    "\n",
    "        #print(line)\n",
    "        for elem,search in enumerate(searchList):\n",
    "            #print(search)\n",
    "            #print(search,\"elem\",elem)\n",
    "            if search in line:\n",
    "                if \"ExecutionTime\" in line:\n",
    "        #            print(\"here\")\n",
    "                    break\n",
    "                lineList = line.split() \n",
    "                num = float(lineList[-1].replace(';','')) #catch the number\n",
    "                #print(\"Catched \",search,\"value: \",num)\n",
    "                varList[elem][countList[elem]] = num\n",
    "                countList[elem] += 1\n",
    "        count += 1\n",
    "        #if count > 200:\n",
    "        #    break\n",
    "    length = max(countList)\n",
    "    print(\"Number of timesteps: \",length)\n",
    "    f.close()\n",
    "    returnList = [0] * len(varList)\n",
    "    for elem, var in enumerate(varList):\n",
    "        returnList[elem] = var[0:length]\n",
    "    print(countList)\n",
    "    return returnList"
   ],
   "outputs": [],
   "metadata": {}
  },
  {
   "cell_type": "code",
   "execution_count": 5,
   "source": [
    "varList = searchvars(searchList,varList,logFilename,\"Returning aero coefficients\")"
   ],
   "outputs": [
    {
     "output_type": "stream",
     "name": "stdout",
     "text": [
      "starting to read at line  812078\n",
      "Start time=  3.0  s\n",
      "Number of timesteps:  78548\n",
      "[78548, 78548, 78548, 78548, 78548, 78548, 78548, 78548, 78548]\n"
     ]
    }
   ],
   "metadata": {}
  },
  {
   "cell_type": "code",
   "execution_count": 15,
   "source": [
    "## Plotting routines\n",
    "varDict = dict(zip(namesList,varList))\n",
    "varDict[\"angle\"] = [i*(-180)/np.pi for i in varDict[\"angle\"]]\n",
    "setPoint = [0.7] * len(varList[0])\n"
   ],
   "outputs": [],
   "metadata": {}
  },
  {
   "cell_type": "code",
   "execution_count": 34,
   "source": [
    "fig, axs = plt.subplots(2,1)\n",
    "axs[0].plot(varDict[\"Time\"],varDict[\"angle\"],label=\"deflection angle\")\n",
    "axs[0].set_title(\"Deflection angle (t)\")\n",
    "axs[0].set_ylabel(\"angle (deg)\")\n",
    "axs[0].set_xlabel(\"Time (s)\")\n",
    "axs[0].set_yticks(np.arange(0,12.5,2.5))\n",
    "\n",
    "axs[1].plot(varDict[\"Time\"],varDict[\"Cl\"],label=\"Cl\")\n",
    "axs[1].plot(varDict[\"Time\"],setPoint,label=\"setPoint=0.7\")\n",
    "axs[1].plot(varDict[\"Time\"],varDict[\"error\"],label=\"Error\")\n",
    "axs[1].set_title(\"System response\")\n",
    "axs[1].set_ylabel(\"Lift Coefficient\")\n",
    "axs[1].set_xlabel(\"Time (s)\")\n",
    "axs[1].set_ylim([-0.2,0.9])\n",
    "axs[1].set_yticks(np.arange(-0.1,0.9,0.2))\n",
    "axs[1].legend(loc='upper left',bbox_to_anchor=(1.05,1))\n",
    "axs[0].set_facecolor('white')\n",
    "axs[1].set_facecolor('white')\n",
    "fig.tight_layout()\n",
    "fig.savefig(\"PIDcontrol.png\",dpi=300)"
   ],
   "outputs": [
    {
     "output_type": "display_data",
     "data": {
      "text/plain": [
       "<Figure size 432x288 with 2 Axes>"
      ],
      "image/png": "[encoded data removed]"
     },
     "metadata": {
      "needs_background": "light"
     }
    }
   ],
   "metadata": {}
  },
  {
   "cell_type": "code",
   "execution_count": 10,
   "source": [
    "np.pi"
   ],
   "outputs": [
    {
     "output_type": "execute_result",
     "data": {
      "text/plain": [
       "3.141592653589793"
      ]
     },
     "metadata": {},
     "execution_count": 10
    }
   ],
   "metadata": {}
  },
  {
   "cell_type": "code",
   "execution_count": null,
   "source": [],
   "outputs": [],
   "metadata": {}
  }
 ],
 "metadata": {
  "orig_nbformat": 4,
  "language_info": {
   "name": "python"
  }
 },
 "nbformat": 4,
 "nbformat_minor": 2
}